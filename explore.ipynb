{
 "cells": [
  {
   "cell_type": "code",
   "execution_count": 1,
   "id": "b54aab25-699e-4976-a012-9d1ea4f3f560",
   "metadata": {},
   "outputs": [],
   "source": [
    "import librosa\n",
    "import matplotlib.pyplot as plt\n",
    "import numpy as np\n",
    "\n",
    "from IPython.display import Audio, display\n",
    "from ipywidgets import FileUpload, Output, HBox, VBox, Layout\n",
    "from pathlib import Path"
   ]
  },
  {
   "cell_type": "code",
   "execution_count": 2,
   "id": "62946e9a-53b2-49ea-9afb-dd1c3a3c8c7c",
   "metadata": {},
   "outputs": [],
   "source": [
    "sounds = {1: None, 2: None} \n",
    "\n",
    "def handle_upload(index, change, player):\n",
    "    #lobal sounds\n",
    "    name = change['new'][0]['name']\n",
    "    content= change['new'][0]['content']\n",
    "    file_path = f\"samples/{name}\"\n",
    "    if not Path(file_path).is_file():\n",
    "        with open(file_path, 'wb') as f:\n",
    "            f.write(content)\n",
    "    with player:\n",
    "        player.clear_output()\n",
    "        print(file_path)\n",
    "        display(Audio(file_path))\n",
    "        y, sr = librosa.load(file_path)\n",
    "        sounds[index] = (y, sr)\n",
    "        fig, axis = plt.subplots(4,1)\n",
    "        fig.set_size_inches(10, 20)\n",
    "        plot_sound(y, sr, axis[0])\n",
    "        plot_spect(y, sr, fig, axis[1])    \n",
    "        plot_autocorr_tempo(y, sr, fig, axis[2], axis[3])\n",
    "        plt.show()\n",
    "        \n",
    "\n",
    "def plot_sound(y, sr, ax):   \n",
    "    # Plot the array\n",
    "    librosa.display.waveshow(y, sr=sr, ax=ax)\n",
    "    \n",
    "    # Set the title and labels of the plot\n",
    "    ax.set_title(\"Line Plot of Array\")\n",
    "    #plt.xlabel(\"Time\")\n",
    "    #plt.ylabel(\"Value\")\n",
    "    \n",
    "    # Show the plot\n",
    "    #plt.show()\n",
    "\n",
    "\n",
    "def plot_spect(y, sr, fig, ax):\n",
    "    \n",
    "    # Compute the spectrogram\n",
    "    spectrogram = librosa.stft(y, hop_length=1024)\n",
    "\n",
    "    spectrogram = np.abs(spectrogram)\n",
    "    \n",
    "    # Convert the spectrogram to dB scale\n",
    "    spectrogram_db = librosa.amplitude_to_db(spectrogram, ref=np.max)\n",
    "    \n",
    "    # You can also visualize the spectrogram using librosa.display.specshow\n",
    "    img = librosa.display.specshow(spectrogram_db, sr=sr, hop_length=1024, y_axis='log', x_axis='time', ax=ax)\n",
    "    ax.set(title=\"Log-frequency Power Spectrogram\")\n",
    "    ax.label_outer()\n",
    "    #plt.show()\n",
    "\n",
    "\n",
    "def plot_autocorr_tempo(y, sr, fig, ax1, ax2):\n",
    "    hl = 512\n",
    "    onset = librosa.onset.onset_strength(y=y, sr=sr, hop_length=hl)\n",
    "    tempo = librosa.feature.tempogram(onset_envelope=onset, sr=sr, hop_length=hl)\n",
    "    ax1.plot(librosa.times_like(onset), onset, label='Onset strength')\n",
    "    ax1.legend(frameon=True)\n",
    "    ax1.label_outer()\n",
    "    librosa.display.specshow(tempo, sr=sr, hop_length=hl, x_axis='time', y_axis='tempo', cmap='magma', ax=ax2)\n",
    "    ax2.set(title='Autocorrelation tempogram')\n",
    "\n",
    "    "
   ]
  },
  {
   "cell_type": "code",
   "execution_count": 3,
   "id": "59645517-da78-4976-83bb-4a8338936b0b",
   "metadata": {},
   "outputs": [
    {
     "data": {
      "application/vnd.jupyter.widget-view+json": {
       "model_id": "c444d27600cb4d0eafac982b41a378f6",
       "version_major": 2,
       "version_minor": 0
      },
      "text/plain": [
       "HBox(children=(VBox(children=(FileUpload(value=(), description='Upload'), Output()), layout=Layout(width='50%'…"
      ]
     },
     "metadata": {},
     "output_type": "display_data"
    }
   ],
   "source": [
    "upload1, upload2 = FileUpload(multiple=False), FileUpload(multiple=False)\n",
    "player1, player2 = Output(), Output()\n",
    "#summary = Output()\n",
    "\n",
    "upload1.observe(lambda ch: handle_upload(1, ch, player1), names='value')\n",
    "upload2.observe(lambda ch: handle_upload(2, ch, player2), names='value')\n",
    "\n",
    "boxes = HBox([\n",
    "    VBox([upload1, player1], layout= Layout(width='50%')),\n",
    "    VBox([upload2, player2], layout= Layout(width='50%'))\n",
    "])\n",
    "\n",
    "display(boxes)"
   ]
  },
  {
   "cell_type": "code",
   "execution_count": 8,
   "id": "2844579b-aff3-46cc-96e4-7f8bdaeb063a",
   "metadata": {},
   "outputs": [
    {
     "name": "stdout",
     "output_type": "stream",
     "text": [
      "Summary:\n",
      "Tempo difference: 34\n",
      "Spectral centroid difference: 370\n",
      "Spectral bandwidth difference: 426\n"
     ]
    }
   ],
   "source": [
    "def calc_tempo(y, sr):\n",
    "    return round(librosa.feature.tempo(y=y, sr=sr)[0], 1)\n",
    "\n",
    "\n",
    "def calc_spec_center(y, sr):\n",
    "    scs = librosa.feature.spectral_centroid(y=y, sr=sr)[0]\n",
    "    return round(np.mean(abs(scs)))\n",
    "\n",
    "\n",
    "def calc_spec_band(y, sr):\n",
    "    scs = librosa.feature.spectral_bandwidth(y=y, sr=sr)[0]\n",
    "    return round(np.mean(abs(scs)))\n",
    "\n",
    "\n",
    "def compare_sounds(y1, sr1, y2, sr2):\n",
    "    tempo_diff = abs(round(calc_tempo(y1, sr1) - calc_tempo(y2, sr2)))\n",
    "    spec_center_diff = abs(calc_spec_center(y1, sr1) - calc_spec_center(y2, sr2))\n",
    "    spec_band_diff = abs(calc_spec_band(y1, sr1) - calc_spec_band(y2, sr2))\n",
    "    print(f\"Tempo difference: {tempo_diff}\")\n",
    "    print(f\"Spectral centroid difference: {spec_center_diff}\")\n",
    "    print(f\"Spectral bandwidth difference: {spec_band_diff}\")\n",
    "    \n",
    "if sounds[1] and sounds[2]:        \n",
    "    print(\"Summary:\")\n",
    "    y1, sr1 = sounds[1]\n",
    "    y2, sr2 = sounds[2]\n",
    "    compare_sounds(y1, sr1, y2, sr2)"
   ]
  },
  {
   "cell_type": "code",
   "execution_count": null,
   "id": "4fd7ce53-b544-4d42-a068-520ed92782be",
   "metadata": {},
   "outputs": [],
   "source": [
    "# y, sr = librosa.load(file_path)\n",
    "# fig, axis = plt.subplots(2,1)\n",
    "# fig.set_size_inches(10, 15)\n",
    "# plot_sound(y, sr, axis[0])\n",
    "# plot_spect(y, sr, fig, axis[1])        \n",
    "# plt.show()"
   ]
  },
  {
   "cell_type": "code",
   "execution_count": null,
   "id": "f0a3bee7-7348-463e-a119-6c72a75cbec4",
   "metadata": {},
   "outputs": [],
   "source": [
    "cc"
   ]
  },
  {
   "cell_type": "code",
   "execution_count": null,
   "id": "08804be1-d04e-43da-99be-1dce0bec4402",
   "metadata": {},
   "outputs": [],
   "source": [
    "#filename = librosa.example('nutcracker')\n",
    "#plot_spect(filename)"
   ]
  }
 ],
 "metadata": {
  "kernelspec": {
   "display_name": "Python 3 (ipykernel)",
   "language": "python",
   "name": "python3"
  },
  "language_info": {
   "codemirror_mode": {
    "name": "ipython",
    "version": 3
   },
   "file_extension": ".py",
   "mimetype": "text/x-python",
   "name": "python",
   "nbconvert_exporter": "python",
   "pygments_lexer": "ipython3",
   "version": "3.8.10"
  }
 },
 "nbformat": 4,
 "nbformat_minor": 5
}
