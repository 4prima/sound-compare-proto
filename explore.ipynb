{
 "cells": [
  {
   "cell_type": "code",
   "execution_count": 91,
   "id": "b54aab25-699e-4976-a012-9d1ea4f3f560",
   "metadata": {},
   "outputs": [],
   "source": [
    "import librosa\n",
    "import matplotlib.pyplot as plt\n",
    "import numpy as np\n",
    "\n",
    "from IPython.display import Audio, display\n",
    "from ipywidgets import FileUpload, Output, HBox, VBox, Layout"
   ]
  },
  {
   "cell_type": "code",
   "execution_count": 139,
   "id": "62946e9a-53b2-49ea-9afb-dd1c3a3c8c7c",
   "metadata": {},
   "outputs": [],
   "source": [
    "def handle_upload(change, player):\n",
    "    name = change['new'][0]['name']\n",
    "    file_path = f\"samples/{name}\"\n",
    "    with player:\n",
    "        player.clear_output()\n",
    "        print(file_path)\n",
    "        display(Audio(file_path))\n",
    "        y, sr = librosa.load(file_path)\n",
    "        fig, axis = plt.subplots(2,1)\n",
    "        fig.set_size_inches(10, 15)\n",
    "        plot_sound(y, sr, axis[0])\n",
    "        plot_spect(y, sr, fig, axis[1])        \n",
    "        plt.show()\n",
    "\n",
    "\n",
    "def plot_sound(y, sr, ax):   \n",
    "    # Plot the array\n",
    "    librosa.display.waveshow(y, sr=sr, ax=ax)\n",
    "    \n",
    "    # Set the title and labels of the plot\n",
    "    ax.set_title(\"Line Plot of Array\")\n",
    "    #plt.xlabel(\"Time\")\n",
    "    #plt.ylabel(\"Value\")\n",
    "    \n",
    "    # Show the plot\n",
    "    #plt.show()\n",
    "\n",
    "\n",
    "def plot_spect(y, sr, fig, ax):\n",
    "    \n",
    "    # Compute the spectrogram\n",
    "    spectrogram = librosa.stft(y, hop_length=1024)\n",
    "\n",
    "    spectrogram = np.abs(spectrogram)\n",
    "    \n",
    "    # Convert the spectrogram to dB scale\n",
    "    spectrogram_db = librosa.amplitude_to_db(spectrogram, ref=np.max)\n",
    "    \n",
    "    # You can also visualize the spectrogram using librosa.display.specshow\n",
    "    img = librosa.display.specshow(spectrogram_db, sr=sr, hop_length=1024, y_axis='log', x_axis='time', ax=ax)\n",
    "    ax.set(title=\"Log-frequency Power Spectrogram\")\n",
    "    ax.label_outer()\n",
    "    #plt.show()\n"
   ]
  },
  {
   "cell_type": "code",
   "execution_count": 140,
   "id": "59645517-da78-4976-83bb-4a8338936b0b",
   "metadata": {},
   "outputs": [
    {
     "data": {
      "application/vnd.jupyter.widget-view+json": {
       "model_id": "967a120c664a4a66b5b51fcd41f877bc",
       "version_major": 2,
       "version_minor": 0
      },
      "text/plain": [
       "HBox(children=(VBox(children=(FileUpload(value=(), description='Upload'), Output()), layout=Layout(width='50%'…"
      ]
     },
     "metadata": {},
     "output_type": "display_data"
    }
   ],
   "source": [
    "upload1, upload2 = FileUpload(multiple=False), FileUpload(multiple=False)\n",
    "player1, player2 = Output(), Output()\n",
    "\n",
    "upload1.observe(lambda ch: handle_upload(ch, player1), names='value')\n",
    "upload2.observe(lambda ch: handle_upload(ch, player2), names='value')\n",
    "\n",
    "boxes = HBox([\n",
    "    VBox([upload1, player1], layout= Layout(width='50%')),\n",
    "    VBox([upload2, player2], layout= Layout(width='50%'))\n",
    "])\n",
    "display(boxes)"
   ]
  },
  {
   "cell_type": "code",
   "execution_count": 65,
   "id": "f0a3bee7-7348-463e-a119-6c72a75cbec4",
   "metadata": {},
   "outputs": [
    {
     "data": {
      "text/plain": [
       "{'name': 'value',\n",
       " 'old': (),\n",
       " 'new': ({'name': 'StarWars60.wav',\n",
       "   'type': 'audio/wav',\n",
       "   'size': 2646044,\n",
       "   'content': <memory at 0x7f0ebe3df4c0>,\n",
       "   'last_modified': datetime.datetime(2023, 11, 20, 6, 37, 27, 999000, tzinfo=datetime.timezone.utc)},),\n",
       " 'owner': FileUpload(value=({'name': 'StarWars60.wav', 'type': 'audio/wav', 'size': 2646044, 'content': <memory at 0x7f0ebe3df4c0>, 'last_modified': datetime.datetime(2023, 11, 20, 6, 37, 27, 999000, tzinfo=datetime.timezone.utc)},), description='Upload'),\n",
       " 'type': 'change'}"
      ]
     },
     "execution_count": 65,
     "metadata": {},
     "output_type": "execute_result"
    }
   ],
   "source": [
    "cc"
   ]
  },
  {
   "cell_type": "code",
   "execution_count": 68,
   "id": "08804be1-d04e-43da-99be-1dce0bec4402",
   "metadata": {},
   "outputs": [],
   "source": [
    "#filename = librosa.example('nutcracker')\n",
    "#plot_spect(filename)"
   ]
  },
  {
   "cell_type": "code",
   "execution_count": null,
   "id": "e1bd7a01-7fbb-4a8d-ad47-041c143dfc3c",
   "metadata": {},
   "outputs": [],
   "source": []
  }
 ],
 "metadata": {
  "kernelspec": {
   "display_name": "Python 3 (ipykernel)",
   "language": "python",
   "name": "python3"
  },
  "language_info": {
   "codemirror_mode": {
    "name": "ipython",
    "version": 3
   },
   "file_extension": ".py",
   "mimetype": "text/x-python",
   "name": "python",
   "nbconvert_exporter": "python",
   "pygments_lexer": "ipython3",
   "version": "3.8.10"
  }
 },
 "nbformat": 4,
 "nbformat_minor": 5
}
