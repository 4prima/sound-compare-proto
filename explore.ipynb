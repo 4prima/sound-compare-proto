{
 "cells": [
  {
   "cell_type": "code",
   "execution_count": 48,
   "id": "b54aab25-699e-4976-a012-9d1ea4f3f560",
   "metadata": {},
   "outputs": [],
   "source": [
    "import librosa\n",
    "import matplotlib.pyplot as plt\n",
    "import numpy as np\n",
    "\n",
    "from IPython.display import Audio, display\n",
    "from ipywidgets import FileUpload, Output, HBox, VBox, Layout"
   ]
  },
  {
   "cell_type": "code",
   "execution_count": 52,
   "id": "62946e9a-53b2-49ea-9afb-dd1c3a3c8c7c",
   "metadata": {},
   "outputs": [],
   "source": [
    "def handle_upload(change, player):\n",
    "    name = change['new'][0]['name']\n",
    "    file_path = f\"samples/{name}\"\n",
    "    with player:\n",
    "        player.clear_output()\n",
    "        print(file_path)\n",
    "        display(Audio(file_path))\n",
    "        plot_sound(file_path)\n",
    "        \n",
    "\n",
    "def plot_sound(filename):\n",
    "    y, sr = librosa.load(filename)\n",
    "    \n",
    "    # Plot the array\n",
    "    plt.plot(y)\n",
    "    \n",
    "    # Set the title and labels of the plot\n",
    "    plt.title(\"Line Plot of Array\")\n",
    "    plt.xlabel(\"Index\")\n",
    "    plt.ylabel(\"Value\")\n",
    "    \n",
    "    # Show the plot\n",
    "    plt.show()"
   ]
  },
  {
   "cell_type": "code",
   "execution_count": 54,
   "id": "59645517-da78-4976-83bb-4a8338936b0b",
   "metadata": {},
   "outputs": [
    {
     "data": {
      "application/vnd.jupyter.widget-view+json": {
       "model_id": "183aa4b6cfe247d68d90c993ec6afa61",
       "version_major": 2,
       "version_minor": 0
      },
      "text/plain": [
       "HBox(children=(VBox(children=(FileUpload(value=(), description='Upload'), Output()), layout=Layout(width='50%'…"
      ]
     },
     "metadata": {},
     "output_type": "display_data"
    }
   ],
   "source": [
    "upload1, upload2 = FileUpload(multiple=False), FileUpload(multiple=False)\n",
    "player1, player2 = Output(), Output()\n",
    "\n",
    "upload1.observe(lambda ch: handle_upload(ch, player1), names='value')\n",
    "upload2.observe(lambda ch: handle_upload(ch, player2), names='value')\n",
    "\n",
    "boxes = HBox([\n",
    "    VBox([upload1, player1], layout= Layout(width='50%')),\n",
    "    VBox([upload2, player2], layout= Layout(width='50%'))\n",
    "])\n",
    "display(boxes)"
   ]
  },
  {
   "cell_type": "code",
   "execution_count": 51,
   "id": "f0a3bee7-7348-463e-a119-6c72a75cbec4",
   "metadata": {},
   "outputs": [
    {
     "data": {
      "text/plain": [
       "{'name': 'value',\n",
       " 'old': (),\n",
       " 'new': ({'name': 'StarWars60.wav',\n",
       "   'type': 'audio/wav',\n",
       "   'size': 2646044,\n",
       "   'content': <memory at 0x7f0ebe3df4c0>,\n",
       "   'last_modified': datetime.datetime(2023, 11, 20, 6, 37, 27, 999000, tzinfo=datetime.timezone.utc)},),\n",
       " 'owner': FileUpload(value=({'name': 'StarWars60.wav', 'type': 'audio/wav', 'size': 2646044, 'content': <memory at 0x7f0ebe3df4c0>, 'last_modified': datetime.datetime(2023, 11, 20, 6, 37, 27, 999000, tzinfo=datetime.timezone.utc)},), description='Upload'),\n",
       " 'type': 'change'}"
      ]
     },
     "execution_count": 51,
     "metadata": {},
     "output_type": "execute_result"
    }
   ],
   "source": [
    "cc"
   ]
  },
  {
   "cell_type": "code",
   "execution_count": null,
   "id": "08804be1-d04e-43da-99be-1dce0bec4402",
   "metadata": {},
   "outputs": [],
   "source": [
    "#filename = librosa.example('nutcracker')"
   ]
  }
 ],
 "metadata": {
  "kernelspec": {
   "display_name": "Python 3 (ipykernel)",
   "language": "python",
   "name": "python3"
  },
  "language_info": {
   "codemirror_mode": {
    "name": "ipython",
    "version": 3
   },
   "file_extension": ".py",
   "mimetype": "text/x-python",
   "name": "python",
   "nbconvert_exporter": "python",
   "pygments_lexer": "ipython3",
   "version": "3.8.10"
  }
 },
 "nbformat": 4,
 "nbformat_minor": 5
}
