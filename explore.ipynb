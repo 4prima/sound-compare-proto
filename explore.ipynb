{
 "cells": [
  {
   "cell_type": "code",
   "execution_count": 33,
   "id": "b54aab25-699e-4976-a012-9d1ea4f3f560",
   "metadata": {},
   "outputs": [],
   "source": [
    "import librosa\n",
    "import matplotlib.pyplot as plt\n",
    "import numpy as np\n",
    "\n",
    "from IPython.display import Audio, display\n",
    "from ipywidgets import FileUpload, Output, HBox, VBox, Layout"
   ]
  },
  {
   "cell_type": "code",
   "execution_count": 34,
   "id": "62946e9a-53b2-49ea-9afb-dd1c3a3c8c7c",
   "metadata": {},
   "outputs": [],
   "source": [
    "def handle_upload1(change):\n",
    "    name = change['new'][0]['name']\n",
    "    file_path = f\"samples/{name}\"\n",
    "    with player1:\n",
    "        player1.clear_output()\n",
    "        print(file_path)\n",
    "        display(Audio(file_path))"
   ]
  },
  {
   "cell_type": "code",
   "execution_count": 35,
   "id": "350b6465-40c2-46d9-93b7-4baeb4ba6703",
   "metadata": {},
   "outputs": [],
   "source": [
    "def handle_upload2(change):\n",
    "    name = change['new'][0]['name']\n",
    "    file_path = f\"samples/{name}\"\n",
    "    with player2:\n",
    "        player2.clear_output()\n",
    "        print(file_path)\n",
    "        display(Audio(file_path))"
   ]
  },
  {
   "cell_type": "code",
   "execution_count": 36,
   "id": "59645517-da78-4976-83bb-4a8338936b0b",
   "metadata": {},
   "outputs": [
    {
     "data": {
      "application/vnd.jupyter.widget-view+json": {
       "model_id": "1cc7b10e00034eb68d92fbcea1e9e433",
       "version_major": 2,
       "version_minor": 0
      },
      "text/plain": [
       "HBox(children=(VBox(children=(FileUpload(value=(), description='Upload'), Output()), layout=Layout(width='50%'…"
      ]
     },
     "metadata": {},
     "output_type": "display_data"
    }
   ],
   "source": [
    "upload1 = FileUpload(multiple=False)\n",
    "player1 = Output()\n",
    "upload2 = FileUpload(multiple=False)\n",
    "player2 = Output()\n",
    "\n",
    "upload1.observe(handle_upload1, names='value')\n",
    "upload2.observe(handle_upload2, names='value')\n",
    "\n",
    "boxes = HBox([\n",
    "    VBox([upload1, player1], layout= Layout(width='50%')),\n",
    "    VBox([upload2, player2], layout= Layout(width='50%'))\n",
    "])\n",
    "display(boxes)"
   ]
  },
  {
   "cell_type": "code",
   "execution_count": null,
   "id": "f0a3bee7-7348-463e-a119-6c72a75cbec4",
   "metadata": {},
   "outputs": [],
   "source": [
    "# filename = librosa.example('nutcracker')\n",
    "# y, sr = librosa.load(filename)\n",
    "\n",
    "\n",
    "# # Plot the array\n",
    "# plt.plot(y)\n",
    "\n",
    "# # Set the title and labels of the plot\n",
    "# plt.title(\"Line Plot of Array\")\n",
    "# plt.xlabel(\"Index\")\n",
    "# plt.ylabel(\"Value\")\n",
    "\n",
    "# # Show the plot\n",
    "# plt.show()"
   ]
  },
  {
   "cell_type": "code",
   "execution_count": null,
   "id": "08804be1-d04e-43da-99be-1dce0bec4402",
   "metadata": {},
   "outputs": [],
   "source": []
  }
 ],
 "metadata": {
  "kernelspec": {
   "display_name": "Python 3 (ipykernel)",
   "language": "python",
   "name": "python3"
  },
  "language_info": {
   "codemirror_mode": {
    "name": "ipython",
    "version": 3
   },
   "file_extension": ".py",
   "mimetype": "text/x-python",
   "name": "python",
   "nbconvert_exporter": "python",
   "pygments_lexer": "ipython3",
   "version": "3.8.10"
  }
 },
 "nbformat": 4,
 "nbformat_minor": 5
}
